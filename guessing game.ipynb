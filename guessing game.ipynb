{
  "metadata": {
    "language_info": {
      "codemirror_mode": {
        "name": "python",
        "version": 3
      },
      "file_extension": ".py",
      "mimetype": "text/x-python",
      "name": "python",
      "nbconvert_exporter": "python",
      "pygments_lexer": "ipython3",
      "version": "3.8"
    },
    "kernelspec": {
      "name": "python",
      "display_name": "Python (Pyodide)",
      "language": "python"
    }
  },
  "nbformat_minor": 4,
  "nbformat": 4,
  "cells": [
    {
      "cell_type": "code",
      "source": "import random\n\n#Name input\nprint(\"HEY!!\")\nname = input(\"What's your Name: \")\n\nprint(\"\\nLet's start the Game!\", name)\n\n# Create a list of words\nwords = [\"apple\", \"banana\", \"cat\", \"dog\", \"elephant\"]\n\n# Choose a random word from the list\nrandom_word = random.choice(words)\n\n\n# Create a list to store the user's guesses\nguesses = []\n\n# Start the game\nwhile True:\n\n  # Ask the user to guess a letter\n  guess = input(\"Guess a letter: \")\n\n  # Check if the guess is correct\n  if guess in random_word:\n\n    # Add the guess to the list of guesses\n    guesses.append(guess)\n\n    # Reveal the correct letters in the word\n    for i in range(len(random_word)):\n      if random_word[i] == guess:\n        print(guess, end=\" \")\n      else:\n        print(\"_\", end=\" \")\n\n    # Check if the user has guessed the word correctly\n    if \"\".join(guesses) == random_word:\n      print()\n      print(\"Congratulations! You guessed the word correctly!\")\n      break\n\n  else:\n    print(\"Incorrect guess.\")\n\n  # Check if the user has run out of guesses\n  if len(guesses) == len(random_word):\n    print()\n    print(\"You ran out of guesses. The word was\", random_word)\n    break\n",
      "metadata": {
        "trusted": true
      },
      "execution_count": null,
      "outputs": []
    },
    {
      "cell_type": "code",
      "source": "",
      "metadata": {},
      "execution_count": null,
      "outputs": []
    }
  ]
}